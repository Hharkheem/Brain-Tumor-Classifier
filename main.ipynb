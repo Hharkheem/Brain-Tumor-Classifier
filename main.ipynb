{
 "cells": [
  {
   "cell_type": "code",
   "execution_count": 19,
   "id": "e65e4706",
   "metadata": {},
   "outputs": [],
   "source": [
    "import torch\n",
    "from torch import nn, optim\n",
    "from torchvision import datasets, transforms\n",
    "from torch.utils.data import DataLoader\n",
    "\n",
    "device = torch.device(\"cuda\" if torch.cuda.is_available() else \"cpu\")"
   ]
  },
  {
   "cell_type": "code",
   "execution_count": 20,
   "metadata": {},
   "outputs": [],
   "source": [
    "tf = transforms.Compose([\n",
    "    transforms.Resize((128, 128)),\n",
    "    transforms.ToTensor(),\n",
    "    transforms.Normalize([0.5, 0.5, 0.5], [0.5, 0.5, 0.5])\n",
    "])"
   ]
  },
  {
   "cell_type": "code",
   "execution_count": 21,
   "metadata": {},
   "outputs": [],
   "source": [
    "train_dl = DataLoader(\n",
    "    datasets.ImageFolder('data/Training', tf),\n",
    "    batch_size=32,\n",
    "    shuffle=True,   \n",
    "    num_workers=4,\n",
    "    pin_memory=True\n",
    ")"
   ]
  },
  {
   "cell_type": "code",
   "execution_count": 22,
   "id": "1da6f40f",
   "metadata": {},
   "outputs": [],
   "source": [
    "test_dl = DataLoader(\n",
    "    datasets.ImageFolder('data/Testing', tf),\n",
    "    batch_size=32,\n",
    "    shuffle=False,   \n",
    "    num_workers=4,\n",
    "    pin_memory=True\n",
    ")"
   ]
  },
  {
   "cell_type": "code",
   "execution_count": 23,
   "id": "b6b125d7",
   "metadata": {},
   "outputs": [],
   "source": [
    "model = nn.Sequential(\n",
    "    nn.Conv2d(3, 32, kernel_size=3, stride=1, padding=1),\n",
    "    nn.ReLU(),\n",
    "    nn.MaxPool2d(kernel_size=2, stride=2),\n",
    "    nn.Conv2d(32, 64, kernel_size=3, stride=1, padding=1),\n",
    "    nn.ReLU(),\n",
    "    nn.MaxPool2d(kernel_size=2, stride=2),\n",
    "    nn.Conv2d(64, 128, kernel_size=3, stride=1, padding=1),\n",
    "    nn.ReLU(),\n",
    "    nn.MaxPool2d(kernel_size=2, stride=2),\n",
    "    nn.Flatten(),\n",
    "    nn.Linear(128 * 16 * 16, 256),\n",
    "    nn.ReLU(),\n",
    "    nn.Dropout(0.5),\n",
    "    nn.Linear(256, 4) # Assuming 4 classes for classification\n",
    ").to(device)"
   ]
  },
  {
   "cell_type": "code",
   "execution_count": 24,
   "id": "4c82f986",
   "metadata": {},
   "outputs": [],
   "source": [
    "opt = optim.Adam(model.parameters(), lr=0.0001)\n",
    "criterion = nn.CrossEntropyLoss()"
   ]
  },
  {
   "cell_type": "code",
   "execution_count": 25,
   "id": "c504f45e",
   "metadata": {},
   "outputs": [
    {
     "name": "stderr",
     "output_type": "stream",
     "text": [
      "c:\\Users\\Hakeem\\AppData\\Local\\Programs\\Python\\Python310\\lib\\site-packages\\torch\\utils\\data\\dataloader.py:665: UserWarning: 'pin_memory' argument is set as true but no accelerator is found, then device pinned memory won't be used.\n",
      "  warnings.warn(warn_msg)\n"
     ]
    },
    {
     "name": "stdout",
     "output_type": "stream",
     "text": [
      "Epoch [1/30], Loss: 151.8783\n",
      "Epoch [2/30], Loss: 102.0626\n",
      "Epoch [3/30], Loss: 85.7589\n",
      "Epoch [4/30], Loss: 74.0691\n",
      "Epoch [5/30], Loss: 63.3099\n",
      "Epoch [6/30], Loss: 55.2591\n",
      "Epoch [7/30], Loss: 50.0117\n",
      "Epoch [8/30], Loss: 44.6527\n",
      "Epoch [9/30], Loss: 39.5162\n",
      "Epoch [10/30], Loss: 34.6829\n",
      "Epoch [11/30], Loss: 31.5351\n",
      "Epoch [12/30], Loss: 28.3576\n",
      "Epoch [13/30], Loss: 23.6194\n",
      "Epoch [14/30], Loss: 23.7962\n",
      "Epoch [15/30], Loss: 20.2712\n",
      "Epoch [16/30], Loss: 18.4800\n",
      "Epoch [17/30], Loss: 15.6028\n",
      "Epoch [18/30], Loss: 15.3343\n",
      "Epoch [19/30], Loss: 14.6664\n",
      "Epoch [20/30], Loss: 12.2571\n",
      "Epoch [21/30], Loss: 10.6079\n",
      "Epoch [22/30], Loss: 10.2680\n",
      "Epoch [23/30], Loss: 9.3996\n",
      "Epoch [24/30], Loss: 8.1684\n",
      "Epoch [25/30], Loss: 6.8299\n",
      "Epoch [26/30], Loss: 6.1640\n",
      "Epoch [27/30], Loss: 6.7372\n",
      "Epoch [28/30], Loss: 6.4919\n",
      "Epoch [29/30], Loss: 6.3393\n",
      "Epoch [30/30], Loss: 6.0699\n"
     ]
    }
   ],
   "source": [
    "model.train()\n",
    "\n",
    "for epoch in range(30):  # Example: 10 epochs\n",
    "    running_loss = 0.0\n",
    "    for x, y in train_dl:\n",
    "        opt.zero_grad()\n",
    "        loss = criterion(model(x.to(device)), y.to(device))\n",
    "        loss.backward()\n",
    "        running_loss += loss\n",
    "        opt.step()\n",
    "        \n",
    "        \n",
    "        \n",
    "    print(f\"Epoch [{epoch+1}/30], Loss: {running_loss:.4f}\")"
   ]
  },
  {
   "cell_type": "code",
   "execution_count": 26,
   "id": "907ef786",
   "metadata": {},
   "outputs": [
    {
     "name": "stderr",
     "output_type": "stream",
     "text": [
      "c:\\Users\\Hakeem\\AppData\\Local\\Programs\\Python\\Python310\\lib\\site-packages\\torch\\utils\\data\\dataloader.py:665: UserWarning: 'pin_memory' argument is set as true but no accelerator is found, then device pinned memory won't be used.\n",
      "  warnings.warn(warn_msg)\n"
     ]
    },
    {
     "name": "stdout",
     "output_type": "stream",
     "text": [
      "Test Loss: 0.1302, Test Accuracy: 97.33%\n"
     ]
    }
   ],
   "source": [
    "model.eval()\n",
    "test_loss = 0.0\n",
    "correct = 0\n",
    "\n",
    "with torch.no_grad():\n",
    "    for x, y in test_dl:\n",
    "        x, y = x.to(device), y.to(device)\n",
    "        logits = model(x)\n",
    "        test_loss += criterion(logits, y).item() * y.size(0)\n",
    "        \n",
    "        predicted = logits.argmax(dim=1)\n",
    "        correct += (predicted == y).sum().item()\n",
    "        \n",
    "test_loss /= len(test_dl.dataset)\n",
    "accuracy = 100 * correct / len(test_dl.dataset)\n",
    "\n",
    "print(f\"Test Loss: {test_loss:.4f}, Test Accuracy: {accuracy:.2f}%\")"
   ]
  },
  {
   "cell_type": "code",
   "execution_count": 34,
   "id": "dc8911f6",
   "metadata": {},
   "outputs": [
    {
     "data": {
      "image/png": "[encoded data removed]",
      "text/plain": [
       "<Figure size 432x288 with 1 Axes>"
      ]
     },
     "metadata": {
      "needs_background": "light"
     },
     "output_type": "display_data"
    },
    {
     "name": "stdout",
     "output_type": "stream",
     "text": [
      "Predicted Class: meningioma\n",
      "Actual Class: meningioma\n",
      "Confidence: 0.9999\n"
     ]
    }
   ],
   "source": [
    "import random\n",
    "\n",
    "import matplotlib.pyplot as plt\n",
    "from torchvision.transforms.functional import to_pil_image\n",
    "\n",
    "model.eval()\n",
    "\n",
    "idx = random.randrange(len(test_dl.dataset))\n",
    "img, label = test_dl.dataset[idx]\n",
    "\n",
    "unnorm  = img * 0.5 + 0.5\n",
    "plt.imshow(to_pil_image(unnorm))\n",
    "plt.axis('off')\n",
    "plt.title('Sample from Test Data')\n",
    "plt.show()\n",
    "\n",
    "with torch.no_grad():\n",
    "    logits = model(img.unsqueeze(0).to(device))\n",
    "    pred = logits.argmax(1).item()\n",
    "    \n",
    "class_names = test_dl.dataset.classes\n",
    "print(f'Predicted Class: {class_names[pred]}')\n",
    "print(f'Actual Class: {class_names[label]}')\n",
    "print(f'Confidence: {torch.softmax(logits, dim=1).max().item():.4f}')"
   ]
  },
  {
   "cell_type": "code",
   "execution_count": 36,
   "id": "a4f9f09c",
   "metadata": {},
   "outputs": [],
   "source": [
    "torch.save(model.state_dict(), \"model1.pt\")"
   ]
  }
 ],
 "metadata": {
  "kernelspec": {
   "display_name": "Python 3",
   "language": "python",
   "name": "python3"
  },
  "language_info": {
   "codemirror_mode": {
    "name": "ipython",
    "version": 3
   },
   "file_extension": ".py",
   "mimetype": "text/x-python",
   "name": "python",
   "nbconvert_exporter": "python",
   "pygments_lexer": "ipython3",
   "version": "3.10.11"
  }
 },
 "nbformat": 4,
 "nbformat_minor": 5
}
